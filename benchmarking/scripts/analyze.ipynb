{
 "cells": [
  {
   "cell_type": "markdown",
   "metadata": {},
   "source": [
    "## Analyze e2e latencies for the single_client_e2e experiment"
   ]
  },
  {
   "cell_type": "code",
   "execution_count": null,
   "metadata": {},
   "outputs": [],
   "source": [
    "import re\n",
    "import numpy as np\n",
    "def get_results(path):\n",
    "    computee2e = []\n",
    "    consumee2e = []\n",
    "    avg_batching_latencies = []\n",
    "    avg_append_latency = []\n",
    "    avg_batch_size = []\n",
    "    total_append_per_client = []\n",
    "    runtime = 0\n",
    "    with open(path+\"/client_node7.log\", \"r\") as f:\n",
    "        lines = f.readlines()\n",
    "        for line in lines:\n",
    "            if \"latencies: \" in line:\n",
    "                consume, compute = line.strip().split('latencies: ')[-1].split(',')[-2:]\n",
    "                consumee2e.append(int(consume))\n",
    "                computee2e.append(int(compute))\n",
    "            if \"average batch size: \" in line:\n",
    "                avg_batch_size.append(float(line.strip().split()[-1]))\n",
    "            if \"average batching latency: \" in line:\n",
    "                avg_batching_latencies.append(float(line.strip().split()[-1]))\n",
    "            if \"avg latency of\" in line:\n",
    "                avg_append_latency.append(float(line.strip().split()[-2]))\n",
    "                total_append_per_client.append(float(line.split('[single_client_e2e]:')[1].split()[3]))\n",
    "            if \"starting benchmark with runtime\" in line:\n",
    "                runtime = float(line.strip().split()[-1])\n",
    "\n",
    "    computee2e = np.array(computee2e, dtype=int)\n",
    "    consumee2e = np.array(consumee2e, dtype=int)\n",
    "    avg_append_latency = np.array(avg_append_latency, dtype=float)\n",
    "\n",
    "    print(\"results for computation time \" + path.split(\"_\")[-1] + \" us\")\n",
    "    print(\"statistic/metric, total/compute e2e (us), consume e2e (us)\")\n",
    "    print(f\"mean, {np.mean(computee2e):.2f}, {np.mean(consumee2e):.2f}\")\n",
    "    print(f\"std, {np.std(computee2e):.2f}, {np.std(consumee2e):.2f}\")\n",
    "    print(f\"p50, {np.percentile(computee2e, 50):.2f}, {np.percentile(consumee2e, 50):.2f}\")\n",
    "    print(f\"p99, {np.percentile(computee2e, 90):.2f}, {np.percentile(consumee2e, 90):.2f}\")\n",
    "\n",
    "    print(\"average batch size, average batching latencies, avg throughput\")\n",
    "    print(f\"{avg_batch_size[-1]:.2f}, {avg_batching_latencies[-1]:.2f}, {np.sum(total_append_per_client)/runtime:.2f}\")\n",
    "\n",
    "    return np.mean(computee2e), np.mean(consumee2e), np.mean(avg_append_latency)\n"
   ]
  },
  {
   "cell_type": "code",
   "execution_count": null,
   "metadata": {},
   "outputs": [],
   "source": [
    "import matplotlib.pyplot as plt\n",
    "total = []\n",
    "consume = []\n",
    "append = []\n",
    "\n",
    "\n",
    "comp_times=[\"100\", \"200\", \"500\", \"800\", \"1000\", \"1200\"]\n",
    "for comp_time in comp_times:\n",
    "    total_lat, consume_lat, append_lat = get_results(f\"../results/logs/e2e_{comp_time}\")\n",
    "    total.append(total_lat)\n",
    "    consume.append(consume_lat)\n",
    "    append.append(append_lat)\n",
    "    print(\"****************************\")\n",
    "\n",
    "fig, ax = plt.subplots()\n",
    "ax.plot(comp_times, append, label='append', marker='x')\n",
    "ax.plot(comp_times, consume, label='consume', marker='x')\n",
    "ax.plot(comp_times, total, label='total', marker='x')\n",
    "\n",
    "ax.set(xlabel='computation time (us)', ylabel='latency (us)', title='latency vs computation time')\n",
    "ax.grid()\n",
    "ax.legend()\n",
    "fig.savefig(\"latency_vs_comp_time.png\", dpi=600)\n",
    "plt.show()"
   ]
  }
 ],
 "metadata": {
  "kernelspec": {
   "display_name": "Python 3 (ipykernel)",
   "language": "python",
   "name": "python3"
  },
  "language_info": {
   "codemirror_mode": {
    "name": "ipython",
    "version": 3
   },
   "file_extension": ".py",
   "mimetype": "text/x-python",
   "name": "python",
   "nbconvert_exporter": "python",
   "pygments_lexer": "ipython3",
   "version": "3.10.12"
  }
 },
 "nbformat": 4,
 "nbformat_minor": 2
}
