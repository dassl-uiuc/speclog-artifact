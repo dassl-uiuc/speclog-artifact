{
 "cells": [
  {
   "cell_type": "markdown",
   "metadata": {},
   "source": [
    "## Analyze e2e latencies for the single_client_e2e experiment"
   ]
  },
  {
   "cell_type": "code",
   "execution_count": 40,
   "metadata": {},
   "outputs": [],
   "source": [
    "import re\n",
    "import numpy as np\n",
    "def get_results(path):\n",
    "    computee2e = []\n",
    "    consumee2e = []\n",
    "    avg_batching_latencies = []\n",
    "    avg_append_latency = []\n",
    "    avg_batch_size = []\n",
    "    total_append_per_client = []\n",
    "    runtime = 0\n",
    "    with open(path+\"/client_node7.log\", \"r\") as f:\n",
    "        lines = f.readlines()\n",
    "        for line in lines:\n",
    "            if \"latencies: \" in line:\n",
    "                consume, compute = line.strip().split('latencies: ')[-1].split(',')[-2:]\n",
    "                consumee2e.append(int(consume))\n",
    "                computee2e.append(int(compute))\n",
    "            if \"average batch size: \" in line:\n",
    "                avg_batch_size.append(float(line.strip().split()[-1]))\n",
    "            if \"average batching latency: \" in line:\n",
    "                avg_batching_latencies.append(float(line.strip().split()[-1]))\n",
    "            if \"avg latency of\" in line:\n",
    "                avg_append_latency.append(float(line.strip().split()[-2]))\n",
    "                total_append_per_client.append(float(line.split('[single_client_e2e]:')[1].split()[3]))\n",
    "            if \"starting benchmark with runtime\" in line:\n",
    "                runtime = float(line.strip().split()[-1])\n",
    "\n",
    "    computee2e = np.array(computee2e, dtype=int)\n",
    "    consumee2e = np.array(consumee2e, dtype=int)\n",
    "    avg_append_latency = np.array(avg_append_latency, dtype=float)\n",
    "\n",
    "    print(\"results for computation time \" + path.split(\"_\")[-1] + \" us\")\n",
    "    print(\"statistic/metric, total/compute e2e (us), consume e2e (us)\")\n",
    "    print(f\"mean, {np.mean(computee2e):.2f}, {np.mean(consumee2e):.2f}\")\n",
    "    print(f\"std, {np.std(computee2e):.2f}, {np.std(consumee2e):.2f}\")\n",
    "    print(f\"p50, {np.percentile(computee2e, 50):.2f}, {np.percentile(consumee2e, 50):.2f}\")\n",
    "    print(f\"p99, {np.percentile(computee2e, 90):.2f}, {np.percentile(consumee2e, 90):.2f}\")\n",
    "\n",
    "    print(\"average batch size, average batching latencies, avg throughput\")\n",
    "    print(f\"{avg_batch_size[-1]:.2f}, {avg_batching_latencies[-1]:.2f}, {np.sum(total_append_per_client)/runtime:.2f}\")\n",
    "\n",
    "    return np.mean(computee2e), np.mean(consumee2e), np.mean(avg_append_latency)\n"
   ]
  },
  {
   "cell_type": "code",
   "execution_count": 42,
   "metadata": {},
   "outputs": [
    {
     "name": "stdout",
     "output_type": "stream",
     "text": [
      "results for computation time 100 us\n",
      "statistic/metric, total/compute e2e (us), consume e2e (us)\n",
      "mean, 3335.95, 3179.15\n",
      "std, 614.85, 609.05\n",
      "p50, 3241.00, 3082.00\n",
      "p99, 3909.00, 3757.00\n",
      "average batch size, average batching latencies, avg throughput\n",
      "1.98, 31.75, 3197.79\n",
      "****************************\n",
      "results for computation time 200 us\n",
      "statistic/metric, total/compute e2e (us), consume e2e (us)\n",
      "mean, 3655.28, 3344.14\n",
      "std, 612.71, 598.14\n",
      "p50, 3477.00, 3145.00\n",
      "p99, 4430.00, 4093.00\n",
      "average batch size, average batching latencies, avg throughput\n",
      "2.12, 30.14, 3040.88\n",
      "****************************\n"
     ]
    },
    {
     "ename": "FileNotFoundError",
     "evalue": "[Errno 2] No such file or directory: '../results/logs/e2e_500/client_node7.log'",
     "output_type": "error",
     "traceback": [
      "\u001b[0;31m---------------------------------------------------------------------------\u001b[0m",
      "\u001b[0;31mFileNotFoundError\u001b[0m                         Traceback (most recent call last)",
      "Cell \u001b[0;32mIn[42], line 9\u001b[0m\n\u001b[1;32m      7\u001b[0m comp_times\u001b[38;5;241m=\u001b[39m[\u001b[38;5;124m\"\u001b[39m\u001b[38;5;124m100\u001b[39m\u001b[38;5;124m\"\u001b[39m, \u001b[38;5;124m\"\u001b[39m\u001b[38;5;124m200\u001b[39m\u001b[38;5;124m\"\u001b[39m, \u001b[38;5;124m\"\u001b[39m\u001b[38;5;124m500\u001b[39m\u001b[38;5;124m\"\u001b[39m, \u001b[38;5;124m\"\u001b[39m\u001b[38;5;124m800\u001b[39m\u001b[38;5;124m\"\u001b[39m, \u001b[38;5;124m\"\u001b[39m\u001b[38;5;124m1000\u001b[39m\u001b[38;5;124m\"\u001b[39m, \u001b[38;5;124m\"\u001b[39m\u001b[38;5;124m1200\u001b[39m\u001b[38;5;124m\"\u001b[39m]\n\u001b[1;32m      8\u001b[0m \u001b[38;5;28;01mfor\u001b[39;00m comp_time \u001b[38;5;129;01min\u001b[39;00m comp_times:\n\u001b[0;32m----> 9\u001b[0m     total_lat, consume_lat, append_lat \u001b[38;5;241m=\u001b[39m \u001b[43mget_results\u001b[49m\u001b[43m(\u001b[49m\u001b[38;5;124;43mf\u001b[39;49m\u001b[38;5;124;43m\"\u001b[39;49m\u001b[38;5;124;43m../results/logs/e2e_\u001b[39;49m\u001b[38;5;132;43;01m{\u001b[39;49;00m\u001b[43mcomp_time\u001b[49m\u001b[38;5;132;43;01m}\u001b[39;49;00m\u001b[38;5;124;43m\"\u001b[39;49m\u001b[43m)\u001b[49m\n\u001b[1;32m     10\u001b[0m     total\u001b[38;5;241m.\u001b[39mappend(total_lat)\n\u001b[1;32m     11\u001b[0m     consume\u001b[38;5;241m.\u001b[39mappend(consume_lat)\n",
      "Cell \u001b[0;32mIn[40], line 11\u001b[0m, in \u001b[0;36mget_results\u001b[0;34m(path)\u001b[0m\n\u001b[1;32m      9\u001b[0m total_append_per_client \u001b[38;5;241m=\u001b[39m []\n\u001b[1;32m     10\u001b[0m runtime \u001b[38;5;241m=\u001b[39m \u001b[38;5;241m0\u001b[39m\n\u001b[0;32m---> 11\u001b[0m \u001b[38;5;28;01mwith\u001b[39;00m \u001b[38;5;28;43mopen\u001b[39;49m\u001b[43m(\u001b[49m\u001b[43mpath\u001b[49m\u001b[38;5;241;43m+\u001b[39;49m\u001b[38;5;124;43m\"\u001b[39;49m\u001b[38;5;124;43m/client_node7.log\u001b[39;49m\u001b[38;5;124;43m\"\u001b[39;49m\u001b[43m,\u001b[49m\u001b[43m \u001b[49m\u001b[38;5;124;43m\"\u001b[39;49m\u001b[38;5;124;43mr\u001b[39;49m\u001b[38;5;124;43m\"\u001b[39;49m\u001b[43m)\u001b[49m \u001b[38;5;28;01mas\u001b[39;00m f:\n\u001b[1;32m     12\u001b[0m     lines \u001b[38;5;241m=\u001b[39m f\u001b[38;5;241m.\u001b[39mreadlines()\n\u001b[1;32m     13\u001b[0m     \u001b[38;5;28;01mfor\u001b[39;00m line \u001b[38;5;129;01min\u001b[39;00m lines:\n",
      "File \u001b[0;32m~/.local/lib/python3.10/site-packages/IPython/core/interactiveshell.py:324\u001b[0m, in \u001b[0;36m_modified_open\u001b[0;34m(file, *args, **kwargs)\u001b[0m\n\u001b[1;32m    317\u001b[0m \u001b[38;5;28;01mif\u001b[39;00m file \u001b[38;5;129;01min\u001b[39;00m {\u001b[38;5;241m0\u001b[39m, \u001b[38;5;241m1\u001b[39m, \u001b[38;5;241m2\u001b[39m}:\n\u001b[1;32m    318\u001b[0m     \u001b[38;5;28;01mraise\u001b[39;00m \u001b[38;5;167;01mValueError\u001b[39;00m(\n\u001b[1;32m    319\u001b[0m         \u001b[38;5;124mf\u001b[39m\u001b[38;5;124m\"\u001b[39m\u001b[38;5;124mIPython won\u001b[39m\u001b[38;5;124m'\u001b[39m\u001b[38;5;124mt let you open fd=\u001b[39m\u001b[38;5;132;01m{\u001b[39;00mfile\u001b[38;5;132;01m}\u001b[39;00m\u001b[38;5;124m by default \u001b[39m\u001b[38;5;124m\"\u001b[39m\n\u001b[1;32m    320\u001b[0m         \u001b[38;5;124m\"\u001b[39m\u001b[38;5;124mas it is likely to crash IPython. If you know what you are doing, \u001b[39m\u001b[38;5;124m\"\u001b[39m\n\u001b[1;32m    321\u001b[0m         \u001b[38;5;124m\"\u001b[39m\u001b[38;5;124myou can use builtins\u001b[39m\u001b[38;5;124m'\u001b[39m\u001b[38;5;124m open.\u001b[39m\u001b[38;5;124m\"\u001b[39m\n\u001b[1;32m    322\u001b[0m     )\n\u001b[0;32m--> 324\u001b[0m \u001b[38;5;28;01mreturn\u001b[39;00m \u001b[43mio_open\u001b[49m\u001b[43m(\u001b[49m\u001b[43mfile\u001b[49m\u001b[43m,\u001b[49m\u001b[43m \u001b[49m\u001b[38;5;241;43m*\u001b[39;49m\u001b[43margs\u001b[49m\u001b[43m,\u001b[49m\u001b[43m \u001b[49m\u001b[38;5;241;43m*\u001b[39;49m\u001b[38;5;241;43m*\u001b[39;49m\u001b[43mkwargs\u001b[49m\u001b[43m)\u001b[49m\n",
      "\u001b[0;31mFileNotFoundError\u001b[0m: [Errno 2] No such file or directory: '../results/logs/e2e_500/client_node7.log'"
     ]
    }
   ],
   "source": [
    "import matplotlib.pyplot as plt\n",
    "total = []\n",
    "consume = []\n",
    "append = []\n",
    "\n",
    "\n",
    "comp_times=[\"100\", \"200\", \"500\", \"800\", \"1000\", \"1200\"]\n",
    "for comp_time in comp_times:\n",
    "    total_lat, consume_lat, append_lat = get_results(f\"../results/logs/e2e_{comp_time}\")\n",
    "    total.append(total_lat)\n",
    "    consume.append(consume_lat)\n",
    "    append.append(append_lat)\n",
    "    print(\"****************************\")\n",
    "\n",
    "fig, ax = plt.subplots()\n",
    "ax.plot(comp_times, append, label='append', marker='x')\n",
    "ax.plot(comp_times, consume, label='consume', marker='x')\n",
    "ax.plot(comp_times, total, label='total', marker='x')\n",
    "\n",
    "ax.set(xlabel='computation time (us)', ylabel='latency (us)', title='latency vs computation time')\n",
    "ax.grid()\n",
    "ax.set_xlim(xmin=0)\n",
    "ax.set_ylim(ymin=0)\n",
    "ax.legend()\n",
    "fig.savefig(\"latency_vs_comp_time.png\", dpi=600)\n",
    "plt.show()"
   ]
  }
 ],
 "metadata": {
  "kernelspec": {
   "display_name": "Python 3 (ipykernel)",
   "language": "python",
   "name": "python3"
  },
  "language_info": {
   "codemirror_mode": {
    "name": "ipython",
    "version": 3
   },
   "file_extension": ".py",
   "mimetype": "text/x-python",
   "name": "python",
   "nbconvert_exporter": "python",
   "pygments_lexer": "ipython3",
   "version": "3.10.12"
  }
 },
 "nbformat": 4,
 "nbformat_minor": 2
}
