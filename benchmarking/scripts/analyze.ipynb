{
 "cells": [
  {
   "cell_type": "markdown",
   "metadata": {},
   "source": [
    "## Analyze e2e latencies for the single_client_e2e experiment"
   ]
  },
  {
   "cell_type": "code",
   "execution_count": 4,
   "metadata": {},
   "outputs": [],
   "source": [
    "import numpy as np\n",
    "import glob\n",
    "\n",
    "def get_append_metrics(path):\n",
    "    file_pattern = path + \"append_metrics*.csv\"\n",
    "\n",
    "    total_throughput = 0\n",
    "    latency_values = []\n",
    "\n",
    "    for file in glob.glob(file_pattern):\n",
    "        with open(file, 'r') as f:\n",
    "            lines = f.readlines()[1:]\n",
    "            for line in lines:\n",
    "                parts = line.strip().split(',')\n",
    "                gsn, latency, throughput = int(parts[0]), float(parts[1]), float(parts[2])\n",
    "                latency_values.append(latency)\n",
    "            \n",
    "            total_throughput += throughput\n",
    "\n",
    "    latency_array = np.array(latency_values)\n",
    "\n",
    "    mean_latency = np.mean(latency_array)\n",
    "    p50_latency = np.percentile(latency_array, 50)\n",
    "    p99_latency = np.percentile(latency_array, 99)\n",
    "\n",
    "    print(\"results for computation time \" + path.split(\"_\")[-1].split(\"/\")[0] + \" us\")\n",
    "    print(\"statistic/metric, latency (us)\")\n",
    "    print(f\"mean, {mean_latency:.2f}\")\n",
    "    print(f\"p50, {p50_latency:.2f}\")\n",
    "    print(f\"p99, {p99_latency:.2f}\")\n",
    "    print(f\"total throughput, {total_throughput:.2f}\")\n",
    "\n",
    "    return int(path.split(\"_\")[-1].split(\"/\")[0]), mean_latency, total_throughput \n",
    "\n",
    "def get_e2e_metrics(path):\n",
    "    file_pattern = path + \"e2e_metrics*.csv\"\n",
    "\n",
    "    delivery_latency_values = []\n",
    "    e2e_latency_values = []\n",
    "    queuing_delay_values = []\n",
    "\n",
    "    for file in glob.glob(file_pattern):\n",
    "        with open(file, 'r') as f:\n",
    "            lines = f.readlines()[1:]\n",
    "            for line in lines:\n",
    "                parts = line.strip().split(',')\n",
    "                delivery, e2e, queuing_delay = float(parts[1]), float(parts[2]), float(parts[3])\n",
    "                delivery_latency_values.append(delivery)\n",
    "                e2e_latency_values.append(e2e)\n",
    "                queuing_delay_values.append(queuing_delay)\n",
    "\n",
    "    \n",
    "    delivery_latency_array = np.array(delivery_latency_values)\n",
    "    e2e_latency_array = np.array(e2e_latency_values)\n",
    "    queuing_delay_array = np.array([x for x in queuing_delay_values if x > 0])\n",
    "\n",
    "    print(\"results for computation time \" + path.split(\"_\")[-1].split(\"/\")[0] + \" us\")\n",
    "    print(\"statistic/metric, delivery latency (us), e2e latency (us), queuing delay (us)\")\n",
    "    print(f\"mean, {np.mean(delivery_latency_array):.2f}, {np.mean(e2e_latency_array):.2f}, {np.mean(queuing_delay_array):.2f}\")\n",
    "    print(f\"std, {np.std(delivery_latency_array):.2f}, {np.std(e2e_latency_array):.2f}, {np.std(queuing_delay_array):.2f}\")\n",
    "    print(f\"p50, {np.percentile(delivery_latency_array, 50):.2f}, {np.percentile(e2e_latency_array, 50):.2f}, {np.percentile(queuing_delay_array, 50):.2f}\")\n",
    "    print(f\"p99, {np.percentile(delivery_latency_array, 99):.2f}, {np.percentile(e2e_latency_array, 99):.2f}, {np.percentile(queuing_delay_array, 99):.2f}\")\n",
    "\n",
    "    return int(path.split(\"_\")[-1].split(\"/\")[0]), np.mean(delivery_latency_array), np.mean(e2e_latency_array), np.mean(queuing_delay_array)"
   ]
  },
  {
   "cell_type": "code",
   "execution_count": 5,
   "metadata": {},
   "outputs": [],
   "source": [
    "path = \"./e2e_4shard_scalog/\"\n",
    "\n",
    "for dir in glob.glob(path + \"*/\"):\n",
    "    get_append_metrics(dir)\n",
    "    get_e2e_metrics(dir)\n"
   ]
  }
 ],
 "metadata": {
  "kernelspec": {
   "display_name": "Python 3 (ipykernel)",
   "language": "python",
   "name": "python3"
  }
 },
 "nbformat": 4,
 "nbformat_minor": 2
}
