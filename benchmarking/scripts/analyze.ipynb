{
 "cells": [
  {
   "cell_type": "markdown",
   "metadata": {},
   "source": [
    "## Analyze e2e latencies for the single_client_e2e experiment"
   ]
  },
  {
   "cell_type": "code",
   "execution_count": 8,
   "metadata": {},
   "outputs": [],
   "source": [
    "import re\n",
    "import numpy as np\n",
    "def get_results(path):\n",
    "    computee2e = []\n",
    "    consumee2e = []\n",
    "    avg_batching_latencies = []\n",
    "    avg_batch_size = []\n",
    "    with open(path+\"/client_node7.log\", \"r\") as f:\n",
    "        lines = f.readlines()\n",
    "        for line in lines:\n",
    "            if \"latencies: \" in line:\n",
    "                consume, compute = line.strip().split('latencies: ')[-1].split(',')[-2:]\n",
    "                consumee2e.append(int(consume))\n",
    "                computee2e.append(int(compute))\n",
    "            if \"average batch size: \" in line:\n",
    "                avg_batch_size.append(float(line.strip().split()[-1]))\n",
    "            if \"average batching latency: \" in line:\n",
    "                avg_batching_latencies.append(float(line.strip().split()[-1]))\n",
    "\n",
    "    computee2e = np.array(computee2e, dtype=int)\n",
    "    consumee2e = np.array(consumee2e, dtype=int)\n",
    "\n",
    "    print(\"results for computation time \" + path.split(\"_\")[-1] + \" us\")\n",
    "    print(\"statistic/metric, total/compute e2e (us), consume e2e (us)\")\n",
    "    print(f\"mean, {np.mean(computee2e):.2f}, {np.mean(consumee2e):.2f}\")\n",
    "    print(f\"std, {np.std(computee2e):.2f}, {np.std(consumee2e):.2f}\")\n",
    "    print(f\"p50, {np.percentile(computee2e, 50):.2f}, {np.percentile(consumee2e, 50):.2f}\")\n",
    "    print(f\"p99, {np.percentile(computee2e, 90):.2f}, {np.percentile(consumee2e, 90):.2f}\")\n",
    "\n",
    "    print(\"average batch size, average batching latencies\")\n",
    "    print(f\"{avg_batch_size[-1]:.2f}, {avg_batching_latencies[-1]:.2f}\")"
   ]
  },
  {
   "cell_type": "code",
   "execution_count": 9,
   "metadata": {},
   "outputs": [
    {
     "name": "stdout",
     "output_type": "stream",
     "text": [
      "results for computation time 100 us\n",
      "statistic/metric, total/compute e2e (us), consume e2e (us)\n",
      "mean, 3110.28, 2972.63\n",
      "std, 1227.21, 1222.20\n",
      "p50, 3129.00, 2993.00\n",
      "p99, 4189.30, 4040.00\n",
      "average batch size, average batching latencies\n",
      "1.37, 42.51\n",
      "****************************\n",
      "results for computation time 200 us\n",
      "statistic/metric, total/compute e2e (us), consume e2e (us)\n",
      "mean, 3374.71, 3113.80\n",
      "std, 620.25, 610.16\n",
      "p50, 3306.00, 3044.00\n",
      "p99, 4235.20, 3971.00\n",
      "average batch size, average batching latencies\n",
      "1.19, 43.34\n",
      "****************************\n",
      "results for computation time 500 us\n",
      "statistic/metric, total/compute e2e (us), consume e2e (us)\n",
      "mean, 3927.66, 3234.32\n",
      "std, 1259.29, 1238.16\n",
      "p50, 3825.00, 3069.00\n",
      "p99, 4945.00, 4087.00\n",
      "average batch size, average batching latencies\n",
      "1.38, 22.86\n",
      "****************************\n",
      "results for computation time 800 us\n",
      "statistic/metric, total/compute e2e (us), consume e2e (us)\n",
      "mean, 4087.82, 2949.04\n",
      "std, 1247.53, 1169.27\n",
      "p50, 3991.00, 2994.00\n",
      "p99, 5265.00, 3985.00\n",
      "average batch size, average batching latencies\n",
      "1.46, 14.39\n",
      "****************************\n",
      "results for computation time 1000 us\n",
      "statistic/metric, total/compute e2e (us), consume e2e (us)\n",
      "mean, 4577.54, 3250.60\n",
      "std, 1064.07, 984.23\n",
      "p50, 4341.00, 3087.00\n",
      "p99, 5355.00, 4033.00\n",
      "average batch size, average batching latencies\n",
      "1.51, 10.92\n",
      "****************************\n",
      "results for computation time 1200 us\n",
      "statistic/metric, total/compute e2e (us), consume e2e (us)\n",
      "mean, 5012.33, 3317.29\n",
      "std, 922.80, 809.31\n",
      "p50, 5037.00, 3107.00\n",
      "p99, 6215.00, 4115.00\n",
      "average batch size, average batching latencies\n",
      "1.75, 12.61\n",
      "****************************\n"
     ]
    }
   ],
   "source": [
    "comp_times=[\"100\", \"200\", \"500\", \"800\", \"1000\", \"1200\"]\n",
    "for comp_time in comp_times:\n",
    "    get_results(f\"../results/logs/e2e_{comp_time}\")\n",
    "    print(\"****************************\")"
   ]
  }
 ],
 "metadata": {
  "kernelspec": {
   "display_name": "Python 3 (ipykernel)",
   "language": "python",
   "name": "python3"
  },
  "language_info": {
   "codemirror_mode": {
    "name": "ipython",
    "version": 3
   },
   "file_extension": ".py",
   "mimetype": "text/x-python",
   "name": "python",
   "nbconvert_exporter": "python",
   "pygments_lexer": "ipython3",
   "version": "3.10.12"
  }
 },
 "nbformat": 4,
 "nbformat_minor": 2
}
